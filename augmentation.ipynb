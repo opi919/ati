{
 "cells": [
  {
   "cell_type": "code",
   "execution_count": 1,
   "metadata": {},
   "outputs": [
    {
     "name": "stdout",
     "output_type": "stream",
     "text": [
      "WARNING:tensorflow:From c:\\Users\\khand\\AppData\\Local\\Programs\\Python\\Python311\\Lib\\site-packages\\keras\\src\\losses.py:2976: The name tf.losses.sparse_softmax_cross_entropy is deprecated. Please use tf.compat.v1.losses.sparse_softmax_cross_entropy instead.\n",
      "\n"
     ]
    },
    {
     "data": {
      "image/png": "[encoded data removed]",
      "text/plain": [
       "<Figure size 640x480 with 9 Axes>"
      ]
     },
     "metadata": {},
     "output_type": "display_data"
    }
   ],
   "source": [
    "import numpy as np\n",
    "from tensorflow.keras.models import Model, Sequential\n",
    "from tensorflow.keras.datasets import mnist\n",
    "import matplotlib.pyplot as plt\n",
    "\n",
    "(x_train, y_train), (x_test, y_test) = mnist.load_data()\n",
    "\n",
    "for i in range(1, 10):\n",
    "    plt.subplot(3, 3, i)\n",
    "    plt.title(y_train[i])\n",
    "    plt.axis(\"off\")\n",
    "\n",
    "    plt.imshow(x_train[i], cmap=\"gray\")"
   ]
  },
  {
   "cell_type": "code",
   "execution_count": 2,
   "metadata": {},
   "outputs": [
    {
     "data": {
      "text/plain": [
       "((54000, 28, 28, 1), (10000, 28, 28, 1), (6000, 28, 28, 1))"
      ]
     },
     "execution_count": 2,
     "metadata": {},
     "output_type": "execute_result"
    }
   ],
   "source": [
    "from sklearn.model_selection import train_test_split\n",
    "\n",
    "x_train, x_val, y_train, y_val = train_test_split(x_train, y_train, test_size=0.1)\n",
    "\n",
    "# reshape the datast\n",
    "x_train = x_train.reshape(x_train.shape[0], 28, 28, 1)  # 60000\n",
    "x_test = x_test.reshape(x_test.shape[0], 28, 28, 1)  # 10000\n",
    "x_val = x_val.reshape(x_val.shape[0], 28, 28, 1)\n",
    "\n",
    "x_train.shape, x_test.shape, x_val.shape"
   ]
  },
  {
   "cell_type": "code",
   "execution_count": 3,
   "metadata": {},
   "outputs": [],
   "source": [
    "# one hot encode the labels\n",
    "from tensorflow.keras.utils import to_categorical\n",
    "\n",
    "y_train = to_categorical(y_train, num_classes=10)\n",
    "y_test = to_categorical(y_test, num_classes=10)\n",
    "y_val = to_categorical(y_val, num_classes=10)"
   ]
  },
  {
   "cell_type": "code",
   "execution_count": 4,
   "metadata": {},
   "outputs": [
    {
     "name": "stdout",
     "output_type": "stream",
     "text": [
      "WARNING:tensorflow:From c:\\Users\\khand\\AppData\\Local\\Programs\\Python\\Python311\\Lib\\site-packages\\keras\\src\\backend.py:1398: The name tf.executing_eagerly_outside_functions is deprecated. Please use tf.compat.v1.executing_eagerly_outside_functions instead.\n",
      "\n",
      "WARNING:tensorflow:From c:\\Users\\khand\\AppData\\Local\\Programs\\Python\\Python311\\Lib\\site-packages\\keras\\src\\layers\\pooling\\max_pooling2d.py:161: The name tf.nn.max_pool is deprecated. Please use tf.nn.max_pool2d instead.\n",
      "\n",
      "Model: \"Normal_model\"\n",
      "_________________________________________________________________\n",
      " Layer (type)                Output Shape              Param #   \n",
      "=================================================================\n",
      " input_1 (InputLayer)        [(None, 28, 28, 1)]       0         \n",
      "                                                                 \n",
      " conv2d (Conv2D)             (None, 28, 28, 32)        320       \n",
      "                                                                 \n",
      " max_pooling2d (MaxPooling2  (None, 14, 14, 32)        0         \n",
      " D)                                                              \n",
      "                                                                 \n",
      " conv2d_1 (Conv2D)           (None, 14, 14, 64)        18496     \n",
      "                                                                 \n",
      " max_pooling2d_1 (MaxPoolin  (None, 7, 7, 64)          0         \n",
      " g2D)                                                            \n",
      "                                                                 \n",
      " flatten (Flatten)           (None, 3136)              0         \n",
      "                                                                 \n",
      " dense (Dense)               (None, 64)                200768    \n",
      "                                                                 \n",
      " dense_1 (Dense)             (None, 10)                650       \n",
      "                                                                 \n",
      "=================================================================\n",
      "Total params: 220234 (860.29 KB)\n",
      "Trainable params: 220234 (860.29 KB)\n",
      "Non-trainable params: 0 (0.00 Byte)\n",
      "_________________________________________________________________\n"
     ]
    }
   ],
   "source": [
    "from tensorflow.keras.models import Model, clone_model\n",
    "from tensorflow.keras.layers import Input, Dense, MaxPooling2D, Flatten, Conv2D\n",
    "\n",
    "inputs = Input(shape=(28, 28, 1))\n",
    "x = Conv2D(\n",
    "    filters=32, kernel_size=(3, 3), strides=(1, 1), activation=\"relu\", padding=\"same\"\n",
    ")(inputs)\n",
    "x = MaxPooling2D()(x)\n",
    "x = Conv2D(\n",
    "    filters=64, kernel_size=(3, 3), strides=(1, 1), activation=\"relu\", padding=\"same\"\n",
    ")(x)\n",
    "x = MaxPooling2D()(x)\n",
    "x = Flatten()(x)\n",
    "x = Dense(64, activation=\"relu\")(x)\n",
    "outputs = Dense(10, activation=\"softmax\")(x)\n",
    "\n",
    "model = Model(inputs, outputs, name=\"Normal_model\")\n",
    "aug_model = Model(inputs,outputs,name=\"Aug_Model\")\n",
    "model.summary()"
   ]
  },
  {
   "cell_type": "code",
   "execution_count": 6,
   "metadata": {},
   "outputs": [
    {
     "name": "stdout",
     "output_type": "stream",
     "text": [
      "WARNING:tensorflow:From c:\\Users\\khand\\AppData\\Local\\Programs\\Python\\Python311\\Lib\\site-packages\\keras\\src\\optimizers\\__init__.py:309: The name tf.train.Optimizer is deprecated. Please use tf.compat.v1.train.Optimizer instead.\n",
      "\n",
      "Epoch 1/20\n",
      "WARNING:tensorflow:From c:\\Users\\khand\\AppData\\Local\\Programs\\Python\\Python311\\Lib\\site-packages\\keras\\src\\utils\\tf_utils.py:492: The name tf.ragged.RaggedTensorValue is deprecated. Please use tf.compat.v1.ragged.RaggedTensorValue instead.\n",
      "\n",
      "WARNING:tensorflow:From c:\\Users\\khand\\AppData\\Local\\Programs\\Python\\Python311\\Lib\\site-packages\\keras\\src\\engine\\base_layer_utils.py:384: The name tf.executing_eagerly_outside_functions is deprecated. Please use tf.compat.v1.executing_eagerly_outside_functions instead.\n",
      "\n",
      "844/844 [==============================] - 28s 31ms/step - loss: 0.5539 - accuracy: 0.9015 - val_loss: 0.1022 - val_accuracy: 0.9702\n",
      "Epoch 2/20\n",
      "844/844 [==============================] - 21s 24ms/step - loss: 0.0702 - accuracy: 0.9778 - val_loss: 0.0910 - val_accuracy: 0.9732\n",
      "Epoch 3/20\n",
      "844/844 [==============================] - 18s 22ms/step - loss: 0.0491 - accuracy: 0.9847 - val_loss: 0.0604 - val_accuracy: 0.9825\n",
      "Epoch 4/20\n",
      "844/844 [==============================] - 18s 21ms/step - loss: 0.0391 - accuracy: 0.9880 - val_loss: 0.0861 - val_accuracy: 0.9770\n",
      "Epoch 5/20\n",
      "844/844 [==============================] - 18s 21ms/step - loss: 0.0355 - accuracy: 0.9885 - val_loss: 0.0519 - val_accuracy: 0.9843\n",
      "Epoch 6/20\n",
      "844/844 [==============================] - 18s 21ms/step - loss: 0.0280 - accuracy: 0.9905 - val_loss: 0.0577 - val_accuracy: 0.9862\n",
      "Epoch 7/20\n",
      "844/844 [==============================] - 18s 21ms/step - loss: 0.0261 - accuracy: 0.9917 - val_loss: 0.0671 - val_accuracy: 0.9827\n",
      "Epoch 8/20\n",
      "844/844 [==============================] - 18s 21ms/step - loss: 0.0223 - accuracy: 0.9927 - val_loss: 0.0703 - val_accuracy: 0.9833\n",
      "Epoch 9/20\n",
      "844/844 [==============================] - 18s 21ms/step - loss: 0.0198 - accuracy: 0.9939 - val_loss: 0.0629 - val_accuracy: 0.9847\n",
      "Epoch 10/20\n",
      "844/844 [==============================] - 18s 21ms/step - loss: 0.0202 - accuracy: 0.9937 - val_loss: 0.0672 - val_accuracy: 0.9853\n",
      "Epoch 11/20\n",
      "844/844 [==============================] - 18s 21ms/step - loss: 0.0201 - accuracy: 0.9938 - val_loss: 0.0723 - val_accuracy: 0.9842\n",
      "Epoch 12/20\n",
      "844/844 [==============================] - 18s 21ms/step - loss: 0.0157 - accuracy: 0.9949 - val_loss: 0.0699 - val_accuracy: 0.9867\n",
      "Epoch 13/20\n",
      "844/844 [==============================] - 18s 21ms/step - loss: 0.0140 - accuracy: 0.9955 - val_loss: 0.0646 - val_accuracy: 0.9857\n",
      "Epoch 14/20\n",
      "844/844 [==============================] - 18s 21ms/step - loss: 0.0120 - accuracy: 0.9961 - val_loss: 0.0744 - val_accuracy: 0.9862\n",
      "Epoch 15/20\n",
      "844/844 [==============================] - 18s 21ms/step - loss: 0.0158 - accuracy: 0.9953 - val_loss: 0.0927 - val_accuracy: 0.9838\n",
      "Epoch 16/20\n",
      "844/844 [==============================] - 18s 22ms/step - loss: 0.0100 - accuracy: 0.9967 - val_loss: 0.0782 - val_accuracy: 0.9855\n",
      "Epoch 17/20\n",
      "844/844 [==============================] - 18s 21ms/step - loss: 0.0126 - accuracy: 0.9964 - val_loss: 0.0909 - val_accuracy: 0.9860\n",
      "Epoch 18/20\n",
      "844/844 [==============================] - 18s 21ms/step - loss: 0.0102 - accuracy: 0.9971 - val_loss: 0.1034 - val_accuracy: 0.9835\n",
      "Epoch 19/20\n",
      "844/844 [==============================] - 18s 21ms/step - loss: 0.0138 - accuracy: 0.9960 - val_loss: 0.0966 - val_accuracy: 0.9827\n",
      "Epoch 20/20\n",
      "844/844 [==============================] - 18s 21ms/step - loss: 0.0086 - accuracy: 0.9973 - val_loss: 0.1002 - val_accuracy: 0.9825\n"
     ]
    }
   ],
   "source": [
    "from tensorflow.keras.callbacks import EarlyStopping\n",
    "\n",
    "model.compile(optimizer=\"adam\", loss=\"categorical_crossentropy\", metrics=[\"accuracy\"])\n",
    "history = model.fit(\n",
    "    x_train,\n",
    "    y_train,\n",
    "    epochs=20,\n",
    "    validation_data=(x_val,y_val),\n",
    "    batch_size=64,\n",
    "    # callbacks=[EarlyStopping(\"val_loss\", patience=5)],\n",
    ")"
   ]
  },
  {
   "cell_type": "code",
   "execution_count": 7,
   "metadata": {},
   "outputs": [
    {
     "data": {
      "text/plain": [
       "<matplotlib.legend.Legend at 0x14d20ecf690>"
      ]
     },
     "execution_count": 7,
     "metadata": {},
     "output_type": "execute_result"
    },
    {
     "data": {
      "image/png": "[encoded data removed]",
      "text/plain": [
       "<Figure size 640x480 with 1 Axes>"
      ]
     },
     "metadata": {},
     "output_type": "display_data"
    }
   ],
   "source": [
    "plt.plot(history.history[\"accuracy\"], label=\"Training accuracy\")\n",
    "plt.plot(history.history[\"val_accuracy\"], label=\"Validation accuracy\", marker=\"o\")\n",
    "plt.title(\"Train vs Validation\")\n",
    "plt.xlabel(\"Epochs\")\n",
    "plt.ylabel(\"accuracy\")\n",
    "plt.legend()"
   ]
  },
  {
   "cell_type": "code",
   "execution_count": 8,
   "metadata": {},
   "outputs": [
    {
     "name": "stdout",
     "output_type": "stream",
     "text": [
      "313/313 [==============================] - 2s 5ms/step - loss: 0.0845 - accuracy: 0.9857\n"
     ]
    }
   ],
   "source": [
    "model_1_score = model.evaluate(x_test,y_test)[1]"
   ]
  },
  {
   "cell_type": "code",
   "execution_count": 9,
   "metadata": {},
   "outputs": [
    {
     "name": "stdout",
     "output_type": "stream",
     "text": [
      "Model: \"Aug_Model\"\n",
      "_________________________________________________________________\n",
      " Layer (type)                Output Shape              Param #   \n",
      "=================================================================\n",
      " input_1 (InputLayer)        [(None, 28, 28, 1)]       0         \n",
      "                                                                 \n",
      " conv2d (Conv2D)             (None, 28, 28, 32)        320       \n",
      "                                                                 \n",
      " max_pooling2d (MaxPooling2  (None, 14, 14, 32)        0         \n",
      " D)                                                              \n",
      "                                                                 \n",
      " conv2d_1 (Conv2D)           (None, 14, 14, 64)        18496     \n",
      "                                                                 \n",
      " max_pooling2d_1 (MaxPoolin  (None, 7, 7, 64)          0         \n",
      " g2D)                                                            \n",
      "                                                                 \n",
      " flatten (Flatten)           (None, 3136)              0         \n",
      "                                                                 \n",
      " dense (Dense)               (None, 64)                200768    \n",
      "                                                                 \n",
      " dense_1 (Dense)             (None, 10)                650       \n",
      "                                                                 \n",
      "=================================================================\n",
      "Total params: 220234 (860.29 KB)\n",
      "Trainable params: 220234 (860.29 KB)\n",
      "Non-trainable params: 0 (0.00 Byte)\n",
      "_________________________________________________________________\n"
     ]
    }
   ],
   "source": [
    "aug_model.compile(\n",
    "    optimizer=\"adam\", loss=\"categorical_crossentropy\", metrics=[\"accuracy\"]\n",
    ")\n",
    "aug_model.summary()"
   ]
  },
  {
   "cell_type": "code",
   "execution_count": 10,
   "metadata": {},
   "outputs": [],
   "source": [
    "from tensorflow.keras.preprocessing.image import ImageDataGenerator\n",
    "\n",
    "datagen = ImageDataGenerator(\n",
    "    rotation_range=10,\n",
    "    shear_range=0.2,\n",
    "    zoom_range=0.1,\n",
    "    width_shift_range=0.15,\n",
    "    height_shift_range=0.15,\n",
    "    horizontal_flip = True,\n",
    "    vertical_flip = False\n",
    ")\n",
    "datagen.fit(x_train)"
   ]
  },
  {
   "cell_type": "code",
   "execution_count": 11,
   "metadata": {},
   "outputs": [
    {
     "name": "stdout",
     "output_type": "stream",
     "text": [
      "10000\n",
      "20000\n",
      "2\n"
     ]
    },
    {
     "data": {
      "image/png": "[encoded data removed]",
      "text/plain": [
       "<Figure size 640x480 with 1 Axes>"
      ]
     },
     "metadata": {},
     "output_type": "display_data"
    }
   ],
   "source": [
    "aug_data_gen = datagen\n",
    "train_generator = aug_data_gen.flow(x_train, y_train, batch_size=10)\n",
    "test_generator = aug_data_gen.flow(x_test, y_test, batch_size=10)\n",
    "\n",
    "X_train_augmented = []\n",
    "Y_train_augmented = []\n",
    "\n",
    "X_test_augmented = []\n",
    "Y_test_augmented = []\n",
    "\n",
    "num_of_sample = 6000\n",
    "for i in range(num_of_sample):\n",
    "    images, labels = next(train_generator)\n",
    "    X_train_augmented.append(images)\n",
    "    Y_train_augmented.append(labels)\n",
    "    \n",
    "num_of_sample = 1000\n",
    "for i in range(num_of_sample):\n",
    "    test_images, test_labels = next(test_generator)\n",
    "    X_test_augmented.append(test_images)\n",
    "    Y_test_augmented.append(test_labels)\n",
    "\n",
    "\n",
    "X_train_augmented = np.concatenate(X_train_augmented)\n",
    "Y_train_augmented = np.concatenate(Y_train_augmented)\n",
    "X_test_augmented = np.concatenate(X_test_augmented)\n",
    "Y_test_augmented = np.concatenate(Y_test_augmented)\n",
    "\n",
    "X_train_augmented = np.concatenate((x_train,X_train_augmented),axis=0)\n",
    "Y_train_augmented = np.concatenate((y_train,Y_train_augmented),axis=0)\n",
    "X_test_augmented = np.concatenate((x_test,X_test_augmented),axis=0)\n",
    "Y_test_augmented = np.concatenate((y_test,Y_test_augmented),axis=0)\n",
    "\n",
    "\n",
    "print(len(x_test))\n",
    "print(len(X_test_augmented))\n",
    "plt.imshow(X_test_augmented[1])\n",
    "print(np.argmax(Y_test_augmented[1]))"
   ]
  },
  {
   "cell_type": "code",
   "execution_count": 12,
   "metadata": {},
   "outputs": [
    {
     "name": "stdout",
     "output_type": "stream",
     "text": [
      "625/625 [==============================] - 3s 5ms/step - loss: 3.9092 - accuracy: 0.7279\n"
     ]
    }
   ],
   "source": [
    "model_2_score = model.evaluate(X_test_augmented,Y_test_augmented)"
   ]
  },
  {
   "cell_type": "code",
   "execution_count": 13,
   "metadata": {},
   "outputs": [],
   "source": [
    "# import matplotlib.pyplot as plt\n",
    "# import numpy as np\n",
    "\n",
    "# # Number of images to display\n",
    "# num_images_to_display = 10\n",
    "\n",
    "# # Creating an iterator to augment images from x_train\n",
    "# image_gen = datagen.flow(x_train, batch_size=32)\n",
    "\n",
    "# # Plot the augmented images\n",
    "# plt.figure(figsize=(10, 10))\n",
    "\n",
    "# for i in range(num_images_to_display):\n",
    "#     # Get a batch of images (in this case, one image at a time)\n",
    "#     augmented_image = next(image_gen)[0]\n",
    "\n",
    "#     # Plotting the augmented image\n",
    "#     plt.subplot(1, num_images_to_display, i + 1)\n",
    "#     plt.imshow(augmented_image, cmap=\"gray\")\n",
    "#     plt.axis(\"off\")\n",
    "\n",
    "# # Display the plot\n",
    "# plt.show()"
   ]
  },
  {
   "cell_type": "code",
   "execution_count": 14,
   "metadata": {},
   "outputs": [
    {
     "name": "stdout",
     "output_type": "stream",
     "text": [
      "Epoch 1/20\n",
      "1782/1782 [==============================] - 40s 22ms/step - loss: 0.2526 - accuracy: 0.9267 - val_loss: 0.0598 - val_accuracy: 0.9832\n",
      "Epoch 2/20\n",
      "1782/1782 [==============================] - 37s 21ms/step - loss: 0.0816 - accuracy: 0.9746 - val_loss: 0.0579 - val_accuracy: 0.9825\n",
      "Epoch 3/20\n",
      "1782/1782 [==============================] - 36s 20ms/step - loss: 0.0535 - accuracy: 0.9827 - val_loss: 0.0494 - val_accuracy: 0.9870\n",
      "Epoch 4/20\n",
      "1782/1782 [==============================] - 36s 20ms/step - loss: 0.0396 - accuracy: 0.9872 - val_loss: 0.0731 - val_accuracy: 0.9853\n",
      "Epoch 5/20\n",
      "1782/1782 [==============================] - 35s 20ms/step - loss: 0.0339 - accuracy: 0.9889 - val_loss: 0.0717 - val_accuracy: 0.9840\n",
      "Epoch 6/20\n",
      "1782/1782 [==============================] - 36s 20ms/step - loss: 0.0289 - accuracy: 0.9903 - val_loss: 0.0907 - val_accuracy: 0.9838\n",
      "Epoch 7/20\n",
      "1782/1782 [==============================] - 36s 20ms/step - loss: 0.0270 - accuracy: 0.9914 - val_loss: 0.0724 - val_accuracy: 0.9872\n",
      "Epoch 8/20\n",
      "1782/1782 [==============================] - 39s 22ms/step - loss: 0.0240 - accuracy: 0.9926 - val_loss: 0.0851 - val_accuracy: 0.9853\n",
      "Epoch 9/20\n",
      "1782/1782 [==============================] - 43s 24ms/step - loss: 0.0238 - accuracy: 0.9927 - val_loss: 0.0934 - val_accuracy: 0.9830\n",
      "Epoch 10/20\n",
      "1782/1782 [==============================] - 40s 23ms/step - loss: 0.0197 - accuracy: 0.9937 - val_loss: 0.1111 - val_accuracy: 0.9812\n",
      "Epoch 11/20\n",
      "1782/1782 [==============================] - 40s 22ms/step - loss: 0.0209 - accuracy: 0.9938 - val_loss: 0.0971 - val_accuracy: 0.9842\n",
      "Epoch 12/20\n",
      "1782/1782 [==============================] - 40s 22ms/step - loss: 0.0203 - accuracy: 0.9938 - val_loss: 0.1020 - val_accuracy: 0.9867\n",
      "Epoch 13/20\n",
      "1782/1782 [==============================] - 40s 22ms/step - loss: 0.0172 - accuracy: 0.9947 - val_loss: 0.1302 - val_accuracy: 0.9853\n",
      "Epoch 14/20\n",
      "1782/1782 [==============================] - 40s 23ms/step - loss: 0.0202 - accuracy: 0.9941 - val_loss: 0.1172 - val_accuracy: 0.9845\n",
      "Epoch 15/20\n",
      "1782/1782 [==============================] - 41s 23ms/step - loss: 0.0186 - accuracy: 0.9947 - val_loss: 0.1106 - val_accuracy: 0.9852\n",
      "Epoch 16/20\n",
      "1782/1782 [==============================] - 41s 23ms/step - loss: 0.0172 - accuracy: 0.9952 - val_loss: 0.1174 - val_accuracy: 0.9857\n",
      "Epoch 17/20\n",
      "1782/1782 [==============================] - 40s 23ms/step - loss: 0.0179 - accuracy: 0.9951 - val_loss: 0.1525 - val_accuracy: 0.9828\n",
      "Epoch 18/20\n",
      "1782/1782 [==============================] - 47s 26ms/step - loss: 0.0177 - accuracy: 0.9953 - val_loss: 0.1202 - val_accuracy: 0.9850\n",
      "Epoch 19/20\n",
      "1782/1782 [==============================] - 49s 28ms/step - loss: 0.0170 - accuracy: 0.9956 - val_loss: 0.1216 - val_accuracy: 0.9878\n",
      "Epoch 20/20\n",
      "1782/1782 [==============================] - 50s 28ms/step - loss: 0.0181 - accuracy: 0.9956 - val_loss: 0.1742 - val_accuracy: 0.9822\n"
     ]
    }
   ],
   "source": [
    "aug_history = aug_model.fit(\n",
    "    X_train_augmented,\n",
    "    Y_train_augmented,\n",
    "    epochs=20,\n",
    "    batch_size=64,\n",
    "    validation_data=(x_val, y_val),\n",
    "    # callbacks=[EarlyStopping(\"val_loss\", patience=5)],\n",
    ")"
   ]
  },
  {
   "cell_type": "code",
   "execution_count": 15,
   "metadata": {},
   "outputs": [
    {
     "name": "stdout",
     "output_type": "stream",
     "text": [
      "313/313 [==============================] - 2s 7ms/step - loss: 0.1309 - accuracy: 0.9856\n",
      "625/625 [==============================] - 4s 6ms/step - loss: 0.2567 - accuracy: 0.9732\n"
     ]
    }
   ],
   "source": [
    "model_3_score = aug_model.evaluate(x_test,y_test)\n",
    "model_4_score = aug_model.evaluate(X_test_augmented,Y_test_augmented)"
   ]
  },
  {
   "cell_type": "code",
   "execution_count": 16,
   "metadata": {},
   "outputs": [
    {
     "name": "stdout",
     "output_type": "stream",
     "text": [
      "NO AUG--NO AUG TEST: 0.9857000112533569\n",
      "NO AUG--AUG TEST 0.7279499769210815\n",
      "AUG -- NO AUG TEST 0.9855999946594238\n",
      "AUG-AUG 0.9731500148773193\n"
     ]
    }
   ],
   "source": [
    "print(\"NO AUG--NO AUG TEST:\",model_1_score)\n",
    "print(\"NO AUG--AUG TEST\",model_2_score[1])\n",
    "print(\"AUG -- NO AUG TEST\",model_3_score[1])\n",
    "print(\"AUG-AUG\",model_4_score[1])"
   ]
  }
 ],
 "metadata": {
  "kernelspec": {
   "display_name": "Python 3",
   "language": "python",
   "name": "python3"
  },
  "language_info": {
   "codemirror_mode": {
    "name": "ipython",
    "version": 3
   },
   "file_extension": ".py",
   "mimetype": "text/x-python",
   "name": "python",
   "nbconvert_exporter": "python",
   "pygments_lexer": "ipython3",
   "version": "3.11.4"
  }
 },
 "nbformat": 4,
 "nbformat_minor": 2
}
